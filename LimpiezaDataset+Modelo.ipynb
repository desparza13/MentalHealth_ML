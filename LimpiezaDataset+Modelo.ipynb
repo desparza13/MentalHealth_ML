{
 "cells": [
  {
   "cell_type": "markdown",
   "id": "c1e00596",
   "metadata": {},
   "source": [
    "# Modelo K-Means Mental Health in Tech Survey\n",
    "## Tercera entrega Proyecto final\n",
    "### Equipo 2 - Daniela Esparza Espinosa, Cinthya Lorena González García, Jennifer Ariadna Hernández Martínez"
   ]
  },
  {
   "cell_type": "code",
   "execution_count": 167,
   "id": "af70c05d",
   "metadata": {},
   "outputs": [],
   "source": [
    "#Importar las librerías que usaremos\n",
    "import pandas as pd\n",
    "import numpy as np\n",
    "import seaborn as sns\n",
    "import matplotlib.pyplot as plt\n",
    "from sklearn.preprocessing import StandardScaler"
   ]
  },
  {
   "cell_type": "markdown",
   "id": "7e32f9a6",
   "metadata": {},
   "source": [
    "## Lectura dataset limpio"
   ]
  },
  {
   "cell_type": "markdown",
   "id": "b65e1174",
   "metadata": {},
   "source": [
    "Se leerá el dataset obtenido del csv tras la limpieza\n"
   ]
  },
  {
   "cell_type": "code",
   "execution_count": 168,
   "id": "983b9835",
   "metadata": {},
   "outputs": [
    {
     "name": "stdout",
     "output_type": "stream",
     "text": [
      "[[37  1  0 ...  2  1  0]\n",
      " [44  0  0 ...  2  2  0]\n",
      " [32  0  0 ...  1  2  0]\n",
      " ...\n",
      " [34  0  0 ...  2  2  0]\n",
      " [46  1  0 ...  2  2  0]\n",
      " [25  0  0 ...  2  2  0]]\n",
      "      wellness_program\n",
      "0                    0\n",
      "1                    0\n",
      "2                    0\n",
      "3                    0\n",
      "4                    0\n",
      "...                ...\n",
      "1247                 0\n",
      "1248                 0\n",
      "1249                 0\n",
      "1250                 0\n",
      "1251                 0\n",
      "\n",
      "[1252 rows x 1 columns]\n"
     ]
    }
   ],
   "source": [
    "\n",
    "X = pd.read_csv('X_data.csv').to_numpy()\n",
    "label = pd.read_csv('Y_data.csv')\n",
    "#n_features son las columnas, puso 2 para poder graficar\n",
    "#cluster_std es que tan lejos o cerca quiero los puntos\n",
    "print(X)\n",
    "print(label)"
   ]
  },
  {
   "cell_type": "markdown",
   "id": "bc937ed4",
   "metadata": {},
   "source": [
    "## Declaración de funciones para el cálculo de distancia y centroides correspondientes"
   ]
  },
  {
   "cell_type": "markdown",
   "id": "01c5cc77",
   "metadata": {},
   "source": [
    "### Distancia euclidiana\n",
    "Para calcular la distancia mínima de cada registro al centroide usamos la distancia euclidiana\n",
    "$$\n",
    "d(p, q) = \\sqrt{(p_1 - q_1)^2 + (p_2 - q_2)^2 + \\cdots + (p_n - q_n)^2} = \\sqrt{\\sum_{i=1}^{n} (q_i - p_i)^2} = \\lVert p - q \\rVert\n",
    "$$\n",
    "\n",
    "Usar **Distancia euclidiana cuadrática** es más rápido que el clustering con la distancia euclidiana regular.\n",
    "\n",
    "$$\n",
    "\\lVert p - q \\rVert^2\n",
    "$$"
   ]
  },
  {
   "cell_type": "code",
   "execution_count": 169,
   "id": "8deb0600",
   "metadata": {},
   "outputs": [],
   "source": [
    "def dist(p, q):\n",
    "    resta = p - q\n",
    "    d = np.dot(resta.T, resta)\n",
    "    return d"
   ]
  },
  {
   "cell_type": "markdown",
   "id": "e86ec506",
   "metadata": {},
   "source": [
    "### Encontrar la distancia mínima\n",
    "\n",
    "Para una $x^{(i)}$:\n",
    "\n",
    "$$\n",
    "c_i = arg \\min_{j} \\lVert x^{(i)} - \\mu_j \\rVert ^2\n",
    "$$"
   ]
  },
  {
   "cell_type": "code",
   "execution_count": 170,
   "id": "060607f9",
   "metadata": {},
   "outputs": [],
   "source": [
    "def min_dist(xi, mu):\n",
    "    #asigna al centroide que le quede mas cerca, me retorna el indice del cluster (traduce, dist a indx)\n",
    "    c = []\n",
    "    k, n = mu.shape\n",
    "    for i in range(k):\n",
    "        c.append(dist(xi, mu[i]))\n",
    "    indx = np.argmin(c)\n",
    "    \n",
    "    return indx"
   ]
  },
  {
   "cell_type": "code",
   "execution_count": 171,
   "id": "5bc9cae6",
   "metadata": {},
   "outputs": [],
   "source": [
    "def min_dist_all(x, mu):\n",
    "    #Devuelve el vector de cada xi a que centroide pertenece\n",
    "    m, n = x.shape\n",
    "    c = np.zeros(m, dtype = int)\n",
    "    for i in range(m):\n",
    "        c[i] = min_dist(x[i], mu)\n",
    "    return c"
   ]
  },
  {
   "cell_type": "markdown",
   "id": "e5174dd3",
   "metadata": {},
   "source": [
    "## Computar o mover el promedio de centroides\n",
    "\n",
    "Para cada $k \\in  K$:\n",
    "\n",
    "$$\n",
    "\\mu_k = \\frac{\\sum_{i=1}^{m} x_i[c_i = k]}{len[c_i = k]}\n",
    "$$"
   ]
  },
  {
   "cell_type": "code",
   "execution_count": 172,
   "id": "70ac9edc",
   "metadata": {},
   "outputs": [],
   "source": [
    "def move_centroids(x, c, k, mu):\n",
    "    m, n = x.shape\n",
    "    new_mu = np.zeros((k,n))\n",
    "    for i in range(k):\n",
    "        elements = x[c==i] #Elementos con el mismo centroide\n",
    "        if (len(elements)==0):\n",
    "            new_mu[i] = mu[i]\n",
    "        else:\n",
    "            new_mu[i] = np.sum(elements, axis = 0) / len(elements)\n",
    "            \n",
    "    return new_mu"
   ]
  },
  {
   "cell_type": "markdown",
   "id": "b4ba9405",
   "metadata": {},
   "source": [
    "## Optimización objetivo\n",
    "\n",
    "$$\n",
    "J(c_1, \\cdots, c_m, \\mu_1, \\cdots, \\mu_k) = \\frac{1}{m} \\sum_{i=1}^{m} \\lVert  x_i - \\mu_{c_i} \\rVert^2\n",
    "$$"
   ]
  },
  {
   "cell_type": "code",
   "execution_count": 173,
   "id": "0d0c3cf2",
   "metadata": {},
   "outputs": [],
   "source": [
    "def cost(x, c, mu):\n",
    "    m, n = x.shape\n",
    "    r = []\n",
    "    for i in range(m):\n",
    "        idx = c[i]\n",
    "        r.append(dist(x[i], mu[idx]))\n",
    "    \n",
    "    r = np.array(r)\n",
    "    costo = (1/m) * np.sum(r)\n",
    "    return costo"
   ]
  },
  {
   "cell_type": "markdown",
   "id": "cb3e209e",
   "metadata": {},
   "source": [
    "# Implementación del algoritmo de K-means"
   ]
  },
  {
   "cell_type": "code",
   "execution_count": 174,
   "id": "50d1bb28",
   "metadata": {},
   "outputs": [],
   "source": [
    "#return mu, c, cluster, J\n",
    "def kmeans(x, k):\n",
    "        #Initialize variables\n",
    "        m, n = x.shape\n",
    "        idx = np.random.choice(m, k)\n",
    "        mu = x[idx]\n",
    "        c = None\n",
    "        J = []\n",
    "        cluster = []\n",
    "        it = 0\n",
    "        \n",
    "        while True:\n",
    "            # Find new assignments\n",
    "            new_c = min_dist_all(x, mu)\n",
    "            J.append(cost(x, new_c, mu))\n",
    "            cluster.append((np.copy(mu), np.copy(new_c)))\n",
    "            \n",
    "            it += 1\n",
    "            # If no assignments have changed, we have finished.\n",
    "            if np.all(c == new_c):\n",
    "                break;\n",
    "            \n",
    "            # if not, keep the new assignments,\n",
    "            c = new_c\n",
    "            \n",
    "            # Update centroids, compute new means based on c\n",
    "            mu = move_centroids(x, np.array(c), k, mu)                 \n",
    "        return mu, c, cluster, J"
   ]
  },
  {
   "cell_type": "markdown",
   "id": "4e092899",
   "metadata": {},
   "source": [
    "## Graficar el movimiento de centroides"
   ]
  },
  {
   "cell_type": "code",
   "execution_count": 175,
   "id": "ce21e3f1",
   "metadata": {},
   "outputs": [
    {
     "data": {
      "text/plain": [
       "\"n = len(cluster)\\n#print(cluster)\\ncols = 3\\nrows = int(n / cols)\\nidx = 0\\ntrack = []\\nprint('n', n, 'r,c:', rows, cols)\\n\\nfig, axs = plt.subplots(rows, cols, figsize=(15, 5*rows))\\nfor i in range(rows):\\n    img = 0\\n    for j in range(cols):\\n        mu, c = cluster[idx]\\n        track.append(mu)\\n        axs[i, j].set_title('cost = ' + str(J[idx]))\\n        axs[i, j].scatter(X[:, 0], X[:, 1], c=c, cmap=plt.cm.Paired)\\n        p = track[0]\\n        for t in track:\\n            axs[i, j].scatter(t[:, 0], t[:, 1], color='r', edgecolors='y', marker='s');\\n            xx = [p[:, 0], t[:, 0]]\\n            yy = [p[:, 1], t[:, 1]]\\n            p = t\\n            axs[i, j].plot(xx, yy, 'k');\\n        idx += 1\""
      ]
     },
     "execution_count": 175,
     "metadata": {},
     "output_type": "execute_result"
    }
   ],
   "source": [
    "\n",
    "'''n = len(cluster)\n",
    "#print(cluster)\n",
    "cols = 3\n",
    "rows = int(n / cols)\n",
    "idx = 0\n",
    "track = []\n",
    "print('n', n, 'r,c:', rows, cols)\n",
    "\n",
    "fig, axs = plt.subplots(rows, cols, figsize=(15, 5*rows))\n",
    "for i in range(rows):\n",
    "    img = 0\n",
    "    for j in range(cols):\n",
    "        mu, c = cluster[idx]\n",
    "        track.append(mu)\n",
    "        axs[i, j].set_title('cost = ' + str(J[idx]))\n",
    "        axs[i, j].scatter(X[:, 0], X[:, 1], c=c, cmap=plt.cm.Paired)\n",
    "        p = track[0]\n",
    "        for t in track:\n",
    "            axs[i, j].scatter(t[:, 0], t[:, 1], color='r', edgecolors='y', marker='s');\n",
    "            xx = [p[:, 0], t[:, 0]]\n",
    "            yy = [p[:, 1], t[:, 1]]\n",
    "            p = t\n",
    "            axs[i, j].plot(xx, yy, 'k');\n",
    "        idx += 1'''"
   ]
  },
  {
   "cell_type": "markdown",
   "id": "ae96fe52",
   "metadata": {},
   "source": [
    "## Escoger k"
   ]
  },
  {
   "cell_type": "code",
   "execution_count": 176,
   "id": "2c2d0970",
   "metadata": {},
   "outputs": [
    {
     "name": "stdout",
     "output_type": "stream",
     "text": [
      "[ 2  3  4  5  6  7  8  9 10 11 12 13 14 15 16 17 18 19 20 21 22 23 24 25\n",
      " 26 27 28 29]\n"
     ]
    },
    {
     "data": {
      "text/plain": [
       "Text(0, 0.5, 'cost')"
      ]
     },
     "execution_count": 176,
     "metadata": {},
     "output_type": "execute_result"
    },
    {
     "data": {
      "image/png": "[encoded data removed]",
      "text/plain": [
       "<Figure size 640x480 with 1 Axes>"
      ]
     },
     "metadata": {},
     "output_type": "display_data"
    }
   ],
   "source": [
    "#plot the cost for each k\n",
    "K = np.arange(2, 30)\n",
    "print(K)\n",
    "Jn = []\n",
    "idx = 0\n",
    "\n",
    "for k in K:\n",
    "    mu, c, cluster, J = kmeans(X, k)\n",
    "    Jn.append(J[-1])\n",
    "    idx += 1\n",
    "    \n",
    "plt.plot(K, Jn)\n",
    "plt.title('Cost over k')\n",
    "plt.xlabel('K')\n",
    "plt.ylabel('cost')"
   ]
  },
  {
   "cell_type": "code",
   "execution_count": 177,
   "id": "c0886f02",
   "metadata": {},
   "outputs": [
    {
     "name": "stdout",
     "output_type": "stream",
     "text": [
      "(1252,)\n"
     ]
    }
   ],
   "source": [
    "k = 7\n",
    "mu, c, cluster, J = kmeans(X, k)\n",
    "print(c.shape)"
   ]
  },
  {
   "cell_type": "code",
   "execution_count": 178,
   "id": "eb4e3ae2",
   "metadata": {},
   "outputs": [
    {
     "data": {
      "text/plain": [
       "array([0, 0, 6, ..., 6, 3, 2])"
      ]
     },
     "execution_count": 178,
     "metadata": {},
     "output_type": "execute_result"
    }
   ],
   "source": [
    "arr = np.array(c)\n",
    "arr"
   ]
  },
  {
   "cell_type": "code",
   "execution_count": 179,
   "id": "ba61cf14",
   "metadata": {},
   "outputs": [
    {
     "name": "stdout",
     "output_type": "stream",
     "text": [
      "['Clusters' 'Age' 'Gender' 'self_employed' 'family_history' 'treatment'\n",
      " 'no_employees' 'remote_work' 'tech_company' 'benefits' 'care_options'\n",
      " 'wellness_program' 'seek_help' 'anonymity' 'leave'\n",
      " 'mental_health_consequence' 'phys_health_consequence' 'coworkers'\n",
      " 'supervisor' 'mental_health_interview' 'phys_health_interview'\n",
      " 'mental_vs_physical' 'obs_consequence']\n"
     ]
    },
    {
     "data": {
      "text/plain": [
       "array([[37,  1,  0, ...,  2,  1,  0],\n",
       "       [44,  0,  0, ...,  2,  2,  0],\n",
       "       [32,  0,  0, ...,  1,  2,  0],\n",
       "       ...,\n",
       "       [34,  0,  0, ...,  2,  2,  0],\n",
       "       [46,  1,  0, ...,  2,  2,  0],\n",
       "       [25,  0,  0, ...,  2,  2,  0]])"
      ]
     },
     "execution_count": 179,
     "metadata": {},
     "output_type": "execute_result"
    }
   ],
   "source": [
    "df = pd.read_csv('X_data.csv')\n",
    "headers = np.array(df.columns)\n",
    "headers = np.insert(headers, 0, \"Clusters\")\n",
    "print(headers)\n",
    "\n",
    "df = np.array(df)\n",
    "df"
   ]
  },
  {
   "cell_type": "code",
   "execution_count": 180,
   "id": "d9ed5420",
   "metadata": {},
   "outputs": [
    {
     "data": {
      "text/plain": [
       "(1252, 23)"
      ]
     },
     "execution_count": 180,
     "metadata": {},
     "output_type": "execute_result"
    }
   ],
   "source": [
    "df = np.column_stack((arr, df))\n",
    "df.shape\n"
   ]
  },
  {
   "cell_type": "code",
   "execution_count": 181,
   "id": "a4e6ca6c",
   "metadata": {},
   "outputs": [
    {
     "data": {
      "text/html": [
       "<div>\n",
       "<style scoped>\n",
       "    .dataframe tbody tr th:only-of-type {\n",
       "        vertical-align: middle;\n",
       "    }\n",
       "\n",
       "    .dataframe tbody tr th {\n",
       "        vertical-align: top;\n",
       "    }\n",
       "\n",
       "    .dataframe thead th {\n",
       "        text-align: right;\n",
       "    }\n",
       "</style>\n",
       "<table border=\"1\" class=\"dataframe\">\n",
       "  <thead>\n",
       "    <tr style=\"text-align: right;\">\n",
       "      <th></th>\n",
       "      <th>Clusters</th>\n",
       "      <th>Age</th>\n",
       "      <th>Gender</th>\n",
       "      <th>self_employed</th>\n",
       "      <th>family_history</th>\n",
       "      <th>treatment</th>\n",
       "      <th>no_employees</th>\n",
       "      <th>remote_work</th>\n",
       "      <th>tech_company</th>\n",
       "      <th>benefits</th>\n",
       "      <th>...</th>\n",
       "      <th>anonymity</th>\n",
       "      <th>leave</th>\n",
       "      <th>mental_health_consequence</th>\n",
       "      <th>phys_health_consequence</th>\n",
       "      <th>coworkers</th>\n",
       "      <th>supervisor</th>\n",
       "      <th>mental_health_interview</th>\n",
       "      <th>phys_health_interview</th>\n",
       "      <th>mental_vs_physical</th>\n",
       "      <th>obs_consequence</th>\n",
       "    </tr>\n",
       "  </thead>\n",
       "  <tbody>\n",
       "    <tr>\n",
       "      <th>0</th>\n",
       "      <td>0</td>\n",
       "      <td>37</td>\n",
       "      <td>1</td>\n",
       "      <td>0</td>\n",
       "      <td>0</td>\n",
       "      <td>1</td>\n",
       "      <td>5</td>\n",
       "      <td>0</td>\n",
       "      <td>1</td>\n",
       "      <td>1</td>\n",
       "      <td>...</td>\n",
       "      <td>1</td>\n",
       "      <td>4</td>\n",
       "      <td>2</td>\n",
       "      <td>2</td>\n",
       "      <td>1</td>\n",
       "      <td>1</td>\n",
       "      <td>2</td>\n",
       "      <td>2</td>\n",
       "      <td>1</td>\n",
       "      <td>0</td>\n",
       "    </tr>\n",
       "    <tr>\n",
       "      <th>1</th>\n",
       "      <td>0</td>\n",
       "      <td>44</td>\n",
       "      <td>0</td>\n",
       "      <td>0</td>\n",
       "      <td>0</td>\n",
       "      <td>0</td>\n",
       "      <td>5</td>\n",
       "      <td>0</td>\n",
       "      <td>0</td>\n",
       "      <td>2</td>\n",
       "      <td>...</td>\n",
       "      <td>2</td>\n",
       "      <td>4</td>\n",
       "      <td>2</td>\n",
       "      <td>2</td>\n",
       "      <td>0</td>\n",
       "      <td>0</td>\n",
       "      <td>2</td>\n",
       "      <td>2</td>\n",
       "      <td>2</td>\n",
       "      <td>0</td>\n",
       "    </tr>\n",
       "    <tr>\n",
       "      <th>2</th>\n",
       "      <td>6</td>\n",
       "      <td>32</td>\n",
       "      <td>0</td>\n",
       "      <td>0</td>\n",
       "      <td>0</td>\n",
       "      <td>0</td>\n",
       "      <td>5</td>\n",
       "      <td>0</td>\n",
       "      <td>1</td>\n",
       "      <td>2</td>\n",
       "      <td>...</td>\n",
       "      <td>2</td>\n",
       "      <td>3</td>\n",
       "      <td>2</td>\n",
       "      <td>2</td>\n",
       "      <td>1</td>\n",
       "      <td>1</td>\n",
       "      <td>1</td>\n",
       "      <td>1</td>\n",
       "      <td>2</td>\n",
       "      <td>0</td>\n",
       "    </tr>\n",
       "    <tr>\n",
       "      <th>3</th>\n",
       "      <td>5</td>\n",
       "      <td>31</td>\n",
       "      <td>0</td>\n",
       "      <td>0</td>\n",
       "      <td>1</td>\n",
       "      <td>1</td>\n",
       "      <td>5</td>\n",
       "      <td>0</td>\n",
       "      <td>1</td>\n",
       "      <td>2</td>\n",
       "      <td>...</td>\n",
       "      <td>2</td>\n",
       "      <td>3</td>\n",
       "      <td>1</td>\n",
       "      <td>1</td>\n",
       "      <td>1</td>\n",
       "      <td>0</td>\n",
       "      <td>2</td>\n",
       "      <td>2</td>\n",
       "      <td>2</td>\n",
       "      <td>1</td>\n",
       "    </tr>\n",
       "    <tr>\n",
       "      <th>4</th>\n",
       "      <td>5</td>\n",
       "      <td>31</td>\n",
       "      <td>0</td>\n",
       "      <td>0</td>\n",
       "      <td>0</td>\n",
       "      <td>0</td>\n",
       "      <td>5</td>\n",
       "      <td>1</td>\n",
       "      <td>1</td>\n",
       "      <td>1</td>\n",
       "      <td>...</td>\n",
       "      <td>2</td>\n",
       "      <td>4</td>\n",
       "      <td>2</td>\n",
       "      <td>2</td>\n",
       "      <td>1</td>\n",
       "      <td>1</td>\n",
       "      <td>1</td>\n",
       "      <td>1</td>\n",
       "      <td>2</td>\n",
       "      <td>0</td>\n",
       "    </tr>\n",
       "    <tr>\n",
       "      <th>...</th>\n",
       "      <td>...</td>\n",
       "      <td>...</td>\n",
       "      <td>...</td>\n",
       "      <td>...</td>\n",
       "      <td>...</td>\n",
       "      <td>...</td>\n",
       "      <td>...</td>\n",
       "      <td>...</td>\n",
       "      <td>...</td>\n",
       "      <td>...</td>\n",
       "      <td>...</td>\n",
       "      <td>...</td>\n",
       "      <td>...</td>\n",
       "      <td>...</td>\n",
       "      <td>...</td>\n",
       "      <td>...</td>\n",
       "      <td>...</td>\n",
       "      <td>...</td>\n",
       "      <td>...</td>\n",
       "      <td>...</td>\n",
       "      <td>...</td>\n",
       "    </tr>\n",
       "    <tr>\n",
       "      <th>1247</th>\n",
       "      <td>2</td>\n",
       "      <td>26</td>\n",
       "      <td>0</td>\n",
       "      <td>0</td>\n",
       "      <td>0</td>\n",
       "      <td>1</td>\n",
       "      <td>5</td>\n",
       "      <td>0</td>\n",
       "      <td>1</td>\n",
       "      <td>2</td>\n",
       "      <td>...</td>\n",
       "      <td>2</td>\n",
       "      <td>4</td>\n",
       "      <td>2</td>\n",
       "      <td>2</td>\n",
       "      <td>1</td>\n",
       "      <td>1</td>\n",
       "      <td>2</td>\n",
       "      <td>2</td>\n",
       "      <td>2</td>\n",
       "      <td>0</td>\n",
       "    </tr>\n",
       "    <tr>\n",
       "      <th>1248</th>\n",
       "      <td>6</td>\n",
       "      <td>32</td>\n",
       "      <td>0</td>\n",
       "      <td>0</td>\n",
       "      <td>1</td>\n",
       "      <td>1</td>\n",
       "      <td>5</td>\n",
       "      <td>1</td>\n",
       "      <td>1</td>\n",
       "      <td>1</td>\n",
       "      <td>...</td>\n",
       "      <td>1</td>\n",
       "      <td>3</td>\n",
       "      <td>2</td>\n",
       "      <td>2</td>\n",
       "      <td>1</td>\n",
       "      <td>1</td>\n",
       "      <td>2</td>\n",
       "      <td>2</td>\n",
       "      <td>1</td>\n",
       "      <td>0</td>\n",
       "    </tr>\n",
       "    <tr>\n",
       "      <th>1249</th>\n",
       "      <td>6</td>\n",
       "      <td>34</td>\n",
       "      <td>0</td>\n",
       "      <td>0</td>\n",
       "      <td>1</td>\n",
       "      <td>1</td>\n",
       "      <td>5</td>\n",
       "      <td>0</td>\n",
       "      <td>1</td>\n",
       "      <td>1</td>\n",
       "      <td>...</td>\n",
       "      <td>2</td>\n",
       "      <td>3</td>\n",
       "      <td>1</td>\n",
       "      <td>1</td>\n",
       "      <td>0</td>\n",
       "      <td>0</td>\n",
       "      <td>2</td>\n",
       "      <td>2</td>\n",
       "      <td>2</td>\n",
       "      <td>0</td>\n",
       "    </tr>\n",
       "    <tr>\n",
       "      <th>1250</th>\n",
       "      <td>3</td>\n",
       "      <td>46</td>\n",
       "      <td>1</td>\n",
       "      <td>0</td>\n",
       "      <td>0</td>\n",
       "      <td>0</td>\n",
       "      <td>5</td>\n",
       "      <td>1</td>\n",
       "      <td>1</td>\n",
       "      <td>2</td>\n",
       "      <td>...</td>\n",
       "      <td>2</td>\n",
       "      <td>4</td>\n",
       "      <td>1</td>\n",
       "      <td>2</td>\n",
       "      <td>0</td>\n",
       "      <td>0</td>\n",
       "      <td>2</td>\n",
       "      <td>2</td>\n",
       "      <td>2</td>\n",
       "      <td>0</td>\n",
       "    </tr>\n",
       "    <tr>\n",
       "      <th>1251</th>\n",
       "      <td>2</td>\n",
       "      <td>25</td>\n",
       "      <td>0</td>\n",
       "      <td>0</td>\n",
       "      <td>1</td>\n",
       "      <td>1</td>\n",
       "      <td>5</td>\n",
       "      <td>0</td>\n",
       "      <td>0</td>\n",
       "      <td>1</td>\n",
       "      <td>...</td>\n",
       "      <td>1</td>\n",
       "      <td>4</td>\n",
       "      <td>2</td>\n",
       "      <td>2</td>\n",
       "      <td>1</td>\n",
       "      <td>0</td>\n",
       "      <td>2</td>\n",
       "      <td>2</td>\n",
       "      <td>2</td>\n",
       "      <td>0</td>\n",
       "    </tr>\n",
       "  </tbody>\n",
       "</table>\n",
       "<p>1252 rows × 23 columns</p>\n",
       "</div>"
      ],
      "text/plain": [
       "      Clusters  Age  Gender  self_employed  family_history  treatment  \\\n",
       "0            0   37       1              0               0          1   \n",
       "1            0   44       0              0               0          0   \n",
       "2            6   32       0              0               0          0   \n",
       "3            5   31       0              0               1          1   \n",
       "4            5   31       0              0               0          0   \n",
       "...        ...  ...     ...            ...             ...        ...   \n",
       "1247         2   26       0              0               0          1   \n",
       "1248         6   32       0              0               1          1   \n",
       "1249         6   34       0              0               1          1   \n",
       "1250         3   46       1              0               0          0   \n",
       "1251         2   25       0              0               1          1   \n",
       "\n",
       "      no_employees  remote_work  tech_company  benefits  ...  anonymity  \\\n",
       "0                5            0             1         1  ...          1   \n",
       "1                5            0             0         2  ...          2   \n",
       "2                5            0             1         2  ...          2   \n",
       "3                5            0             1         2  ...          2   \n",
       "4                5            1             1         1  ...          2   \n",
       "...            ...          ...           ...       ...  ...        ...   \n",
       "1247             5            0             1         2  ...          2   \n",
       "1248             5            1             1         1  ...          1   \n",
       "1249             5            0             1         1  ...          2   \n",
       "1250             5            1             1         2  ...          2   \n",
       "1251             5            0             0         1  ...          1   \n",
       "\n",
       "      leave  mental_health_consequence  phys_health_consequence  coworkers  \\\n",
       "0         4                          2                        2          1   \n",
       "1         4                          2                        2          0   \n",
       "2         3                          2                        2          1   \n",
       "3         3                          1                        1          1   \n",
       "4         4                          2                        2          1   \n",
       "...     ...                        ...                      ...        ...   \n",
       "1247      4                          2                        2          1   \n",
       "1248      3                          2                        2          1   \n",
       "1249      3                          1                        1          0   \n",
       "1250      4                          1                        2          0   \n",
       "1251      4                          2                        2          1   \n",
       "\n",
       "      supervisor  mental_health_interview  phys_health_interview  \\\n",
       "0              1                        2                      2   \n",
       "1              0                        2                      2   \n",
       "2              1                        1                      1   \n",
       "3              0                        2                      2   \n",
       "4              1                        1                      1   \n",
       "...          ...                      ...                    ...   \n",
       "1247           1                        2                      2   \n",
       "1248           1                        2                      2   \n",
       "1249           0                        2                      2   \n",
       "1250           0                        2                      2   \n",
       "1251           0                        2                      2   \n",
       "\n",
       "      mental_vs_physical  obs_consequence  \n",
       "0                      1                0  \n",
       "1                      2                0  \n",
       "2                      2                0  \n",
       "3                      2                1  \n",
       "4                      2                0  \n",
       "...                  ...              ...  \n",
       "1247                   2                0  \n",
       "1248                   1                0  \n",
       "1249                   2                0  \n",
       "1250                   2                0  \n",
       "1251                   2                0  \n",
       "\n",
       "[1252 rows x 23 columns]"
      ]
     },
     "execution_count": 181,
     "metadata": {},
     "output_type": "execute_result"
    }
   ],
   "source": [
    "df = pd.DataFrame(df, columns=headers)\n",
    "df"
   ]
  },
  {
   "cell_type": "code",
   "execution_count": 182,
   "id": "bbad25b8",
   "metadata": {},
   "outputs": [],
   "source": [
    "#Convertir a csv las Xs y las Ys\n",
    "df.to_csv('DatosConCluster.csv', index=False)"
   ]
  }
 ],
 "metadata": {
  "kernelspec": {
   "display_name": "Python 3 (ipykernel)",
   "language": "python",
   "name": "python3"
  },
  "language_info": {
   "codemirror_mode": {
    "name": "ipython",
    "version": 3
   },
   "file_extension": ".py",
   "mimetype": "text/x-python",
   "name": "python",
   "nbconvert_exporter": "python",
   "pygments_lexer": "ipython3",
   "version": "3.11.5"
  }
 },
 "nbformat": 4,
 "nbformat_minor": 5
}
